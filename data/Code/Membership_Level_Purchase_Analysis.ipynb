{
 "cells": [
  {
   "cell_type": "code",
   "execution_count": 1,
   "metadata": {},
   "outputs": [],
   "source": [
    "#pip install pandas\n",
    "#pip install sqlite3"
   ]
  },
  {
   "cell_type": "code",
   "execution_count": 2,
   "metadata": {},
   "outputs": [],
   "source": [
    "import matplotlib.pyplot as plt\n",
    "import seaborn as sns\n",
    "import pandas as pd\n",
    "import numpy as np\n",
    "import sqlite3\n",
    "import scipy.stats as stats\n",
    "from sklearn.linear_model import LinearRegression\n",
    "from sklearn.preprocessing import OneHotEncoder\n",
    "from sklearn.model_selection import train_test_split"
   ]
  },
  {
   "cell_type": "code",
   "execution_count": 3,
   "metadata": {},
   "outputs": [],
   "source": [
    "# Connect to the SQLite database\n",
    "conn = sqlite3.connect('../sql/Customer_Behavior.db')\n",
    "\n",
    "# Define your SQL query\n",
    "query = \"SELECT * FROM E_Comm_Customer_Behavior\"\n",
    "\n",
    "# Use pandas to execute the query and read the data into a DataFrame\n",
    "df = pd.read_sql_query(query, conn)\n",
    "\n",
    "# Close the database connection\n",
    "conn.close()"
   ]
  },
  {
   "cell_type": "markdown",
   "metadata": {},
   "source": [
    "Let's review, describe, and print the dataset."
   ]
  },
  {
   "cell_type": "code",
   "execution_count": 4,
   "metadata": {},
   "outputs": [
    {
     "name": "stdout",
     "output_type": "stream",
     "text": [
      "   Customer ID  Gender  Age           City Membership Type  Total Spend  \\\n",
      "0          101  Female   29       New York            Gold      1120.20   \n",
      "1          102    Male   34    Los Angeles          Silver       780.50   \n",
      "2          103  Female   43        Chicago          Bronze       510.75   \n",
      "3          104    Male   30  San Francisco            Gold      1480.30   \n",
      "4          105    Male   27          Miami          Silver       720.40   \n",
      "\n",
      "   Items Purchased  Average Rating Discount Applied  Days Since Last Purchase  \\\n",
      "0               14             4.6             TRUE                        25   \n",
      "1               11             4.1            FALSE                        18   \n",
      "2                9             3.4             TRUE                        42   \n",
      "3               19             4.7            FALSE                        12   \n",
      "4               13             4.0             TRUE                        55   \n",
      "\n",
      "  Satisfaction Level  \n",
      "0          Satisfied  \n",
      "1            Neutral  \n",
      "2        Unsatisfied  \n",
      "3          Satisfied  \n",
      "4        Unsatisfied  \n"
     ]
    }
   ],
   "source": [
    "print(df.head())\n"
   ]
  },
  {
   "cell_type": "code",
   "execution_count": 5,
   "metadata": {},
   "outputs": [
    {
     "name": "stdout",
     "output_type": "stream",
     "text": [
      "(350, 11)\n"
     ]
    }
   ],
   "source": [
    "print(df.shape)\n"
   ]
  },
  {
   "cell_type": "code",
   "execution_count": 6,
   "metadata": {},
   "outputs": [
    {
     "name": "stdout",
     "output_type": "stream",
     "text": [
      "       Customer ID         Age  Total Spend  Items Purchased  Average Rating  \\\n",
      "count   350.000000  350.000000   350.000000       350.000000      350.000000   \n",
      "mean    275.500000   33.597143   845.381714        12.600000        4.019143   \n",
      "std     101.180532    4.870882   362.058695         4.155984        0.580539   \n",
      "min     101.000000   26.000000   410.800000         7.000000        3.000000   \n",
      "25%     188.250000   30.000000   502.000000         9.000000        3.500000   \n",
      "50%     275.500000   32.500000   775.200000        12.000000        4.100000   \n",
      "75%     362.750000   37.000000  1160.600000        15.000000        4.500000   \n",
      "max     450.000000   43.000000  1520.100000        21.000000        4.900000   \n",
      "\n",
      "       Days Since Last Purchase  \n",
      "count                350.000000  \n",
      "mean                  26.588571  \n",
      "std                   13.440813  \n",
      "min                    9.000000  \n",
      "25%                   15.000000  \n",
      "50%                   23.000000  \n",
      "75%                   38.000000  \n",
      "max                   63.000000  \n"
     ]
    }
   ],
   "source": [
    "print(df.describe())\n"
   ]
  },
  {
   "cell_type": "code",
   "execution_count": 7,
   "metadata": {},
   "outputs": [
    {
     "name": "stdout",
     "output_type": "stream",
     "text": [
      "Index(['Customer ID', 'Gender', 'Age', 'City', 'Membership Type',\n",
      "       'Total Spend', 'Items Purchased', 'Average Rating', 'Discount Applied',\n",
      "       'Days Since Last Purchase', 'Satisfaction Level'],\n",
      "      dtype='object')\n"
     ]
    }
   ],
   "source": [
    "print(df.columns)"
   ]
  },
  {
   "cell_type": "markdown",
   "metadata": {},
   "source": [
    "The dataset contains the following columns:\n",
    "\n",
    "| Column | Description |\n",
    "| ------- | ---------- |\n",
    "Customer ID| A unique identifier for each customer.\n",
    "Gender| The gender of the customer.\n",
    "Age| The age of the customer.\n",
    "City| The city where the customer lives.\n",
    "Membership Type| The type of membership (Gold, Silver, Bronze).\n",
    "Total Spend| The total amount spent by the customer.\n",
    "Items Purchased| The number of items purchased by the customer.\n",
    "Average Rating| The average rating given by the customer.\n",
    "Discount Applied| Indicates whether a discount was applied.\n",
    "Days Since Last Purchase| The number of days since the last purchase.\n",
    "Satisfaction Level| The satisfaction level of the customer."
   ]
  },
  {
   "cell_type": "markdown",
   "metadata": {},
   "source": [
    "## Plan\n",
    "### Data Processing and Cleaning:\n",
    "\n",
    "- Check for missing values and handle them.\n",
    "- Ensure data types are appropriate.\n",
    "- Encode categorical variables if necessary.\n",
    "\n",
    "### Exploratory Data Analysis (EDA):\n",
    "- Visualize the distribution of the number of items purchased.\n",
    "- Compare the number of items purchased across different membership types.\n",
    "- Investigate other relationships and trends in the data.\n",
    "\n",
    "### Statistical Analysis and Modeling:\n",
    "- Perform statistical tests to determine if there are significant differences in the number of items purchased across membership types.\n",
    "- Develop and evaluate regression models to predict the number of items purchased based on membership type and other factors."
   ]
  },
  {
   "cell_type": "code",
   "execution_count": 8,
   "metadata": {},
   "outputs": [
    {
     "name": "stdout",
     "output_type": "stream",
     "text": [
      "<class 'pandas.core.frame.DataFrame'>\n",
      "RangeIndex: 350 entries, 0 to 349\n",
      "Data columns (total 11 columns):\n",
      " #   Column                    Non-Null Count  Dtype  \n",
      "---  ------                    --------------  -----  \n",
      " 0   Customer ID               350 non-null    int64  \n",
      " 1   Gender                    350 non-null    object \n",
      " 2   Age                       350 non-null    int64  \n",
      " 3   City                      350 non-null    object \n",
      " 4   Membership Type           350 non-null    object \n",
      " 5   Total Spend               350 non-null    float64\n",
      " 6   Items Purchased           350 non-null    int64  \n",
      " 7   Average Rating            350 non-null    float64\n",
      " 8   Discount Applied          350 non-null    bool   \n",
      " 9   Days Since Last Purchase  350 non-null    int64  \n",
      " 10  Satisfaction Level        348 non-null    object \n",
      "dtypes: bool(1), float64(2), int64(4), object(4)\n",
      "memory usage: 27.8+ KB\n"
     ]
    },
    {
     "data": {
      "text/plain": [
       "(Customer ID                 0\n",
       " Gender                      0\n",
       " Age                         0\n",
       " City                        0\n",
       " Membership Type             0\n",
       " Total Spend                 0\n",
       " Items Purchased             0\n",
       " Average Rating              0\n",
       " Discount Applied            0\n",
       " Days Since Last Purchase    0\n",
       " Satisfaction Level          2\n",
       " dtype: int64,\n",
       " None)"
      ]
     },
     "execution_count": 8,
     "metadata": {},
     "output_type": "execute_result"
    }
   ],
   "source": [
    "# Data Processing and Cleaning\n",
    "\n",
    "# Check for missing values\n",
    "missing_values = df.isnull().sum()\n",
    "\n",
    "# Convert 'Discount Applied' to a boolean type\n",
    "df['Discount Applied'] = df['Discount Applied'].astype(bool)\n",
    "\n",
    "# Display missing values\n",
    "missing_values, df.info()"
   ]
  },
  {
   "cell_type": "markdown",
   "metadata": {},
   "source": [
    "The data is mostly clean; however, **two** missing values are in the **Satisfaction Level** column.\n",
    "\n",
    "We can handle this by filling in the missing values with a placeholder or removing the rows. Since there are only **two** missing values, eliminating the rows shouldn't significantly impact our analysis.\n",
    "\n",
    "Then, we'll visualize and compare the number of items purchased across different membership types as part of our Exploratory Data Analysis (EDA)."
   ]
  },
  {
   "cell_type": "code",
   "execution_count": 9,
   "metadata": {},
   "outputs": [
    {
     "data": {
      "image/png": "[encoded data removed]",
      "text/plain": [
       "<Figure size 1000x600 with 1 Axes>"
      ]
     },
     "metadata": {},
     "output_type": "display_data"
    }
   ],
   "source": [
    "# Drop rows with missing values in 'Satisfaction Level'\n",
    "df_cleaned = df.dropna(subset=['Satisfaction Level'])\n",
    "\n",
    "# Define custom colors for membership types\n",
    "custom_palette = {\n",
    "    'Gold': '#FFD700',    # Gold\n",
    "    'Silver': '#C0C0C0',  # Silver\n",
    "    'Bronze': '#CD7F32'   # Bronze\n",
    "}\n",
    "\n",
    "# Visualize the distribution of 'Items Purchased' across 'Membership Type'\n",
    "plt.figure(figsize=(10, 6))\n",
    "sns.boxplot(x='Membership Type', y='Items Purchased', data=df_cleaned, hue='Membership Type', palette=custom_palette)\n",
    "plt.title('Items Purchased by Membership Type')\n",
    "plt.xlabel('Membership Type')\n",
    "plt.ylabel('Items Purchased')\n",
    "plt.show()\n"
   ]
  },
  {
   "cell_type": "code",
   "execution_count": 10,
   "metadata": {},
   "outputs": [
    {
     "data": {
      "image/png": "[encoded data removed]",
      "text/plain": [
       "<Figure size 1000x600 with 1 Axes>"
      ]
     },
     "metadata": {},
     "output_type": "display_data"
    }
   ],
   "source": [
    "\n",
    "\n",
    "# Visualize the distribution of 'Items Purchased' using histograms\n",
    "plt.figure(figsize=(10, 6))\n",
    "sns.histplot(data=df_cleaned, x='Items Purchased', hue='Membership Type', multiple='stack', kde=True, palette=custom_palette)\n",
    "plt.title('Distribution of Items Purchased')\n",
    "plt.xlabel('Items Purchased')\n",
    "plt.ylabel('Frequency')\n",
    "plt.show()\n"
   ]
  },
  {
   "cell_type": "markdown",
   "metadata": {},
   "source": [
    "The boxplot and histogram, reveal the purchasing patterns of different types of members which provides a critical insight for our team.\n",
    "\n",
    "**Findings:**\n",
    "\n",
    "- The boxplot shows that Gold members, a significant part of our customer base, purchase more items than Silver and Bronze members.\n",
    "- The histogram confirms that Gold members tend to buy more items on average than Silver and Bronze members.\n",
    "\n",
    "**Next Steps:**\n",
    "\n",
    "- **Statistical Analysis:** We'll conduct statistical tests to see if the differences we noticed are essential.\n",
    "- **Regression Analysis:** We'll create a regression model to measure how membership type affects the number of items purchased.\n",
    "\n",
    "Let's start with the statistical analysis using Analysis of Variance (ANOVA):"
   ]
  },
  {
   "cell_type": "code",
   "execution_count": 11,
   "metadata": {},
   "outputs": [
    {
     "data": {
      "text/plain": [
       "F_onewayResult(statistic=837.7766807141828, pvalue=3.803320723889935e-133)"
      ]
     },
     "execution_count": 11,
     "metadata": {},
     "output_type": "execute_result"
    }
   ],
   "source": [
    "# Perform Analysis of Variance (ANOVA) to test if there are significant differences in items purchased across membership types\n",
    "anova_result = stats.f_oneway(\n",
    "    df_cleaned[df_cleaned['Membership Type'] == 'Gold']['Items Purchased'],\n",
    "    df_cleaned[df_cleaned['Membership Type'] == 'Silver']['Items Purchased'],\n",
    "    df_cleaned[df_cleaned['Membership Type'] == 'Bronze']['Items Purchased']\n",
    ")\n",
    "\n",
    "anova_result"
   ]
  },
  {
   "cell_type": "markdown",
   "metadata": {},
   "source": [
    "The ANOVA test results reveal a very small p-value (*p*≈3.80×10<sup>−133</sup>), which means that the differences in the number of items purchased for different membership types are significant from a statistical standpoint.\n",
    "\n",
    "**Regression Analysis**\n",
    "- We will create a regression model to measure how membership type affects the number of items purchased.\n",
    "- We will use a linear regression model and represent membership type with dummy variables."
   ]
  },
  {
   "cell_type": "code",
   "execution_count": 12,
   "metadata": {},
   "outputs": [
    {
     "name": "stdout",
     "output_type": "stream",
     "text": [
      "R-squared: 0.04003965333794113\n",
      "Coefficients: [-3.68682796 -2.7658046 ]\n",
      "Intercept: 14.708333333333332\n"
     ]
    }
   ],
   "source": [
    "# Encode 'Membership Type' using one-hot encoding\n",
    "encoder = OneHotEncoder(drop='first')\n",
    "membership_encoded = encoder.fit_transform(df_cleaned[['Membership Type']])\n",
    "\n",
    "# Convert to DataFrame and concatenate with the original data\n",
    "membership_encoded_df = pd.DataFrame(membership_encoded.toarray(), columns=encoder.get_feature_names_out(['Membership Type']))\n",
    "df_encoded = pd.concat([df_cleaned, membership_encoded_df], axis=1)\n",
    "df_encoded = df_encoded.dropna(subset=['Membership Type_Silver', 'Membership Type_Gold', 'Items Purchased'])\n",
    "\n",
    "# Prepare the features and target variable\n",
    "X = df_encoded[['Membership Type_Silver', 'Membership Type_Gold']]\n",
    "y = df_encoded['Items Purchased']\n",
    "\n",
    "# Split the data into training and testing sets\n",
    "X_train, X_test, y_train, y_test = train_test_split(X, y, test_size=0.2, random_state=42)\n",
    "\n",
    "# Initialize and train the linear regression model\n",
    "model = LinearRegression()\n",
    "model.fit(X_train, y_train)\n",
    "\n",
    "# Evaluate the model\n",
    "r_squared = model.score(X_test, y_test)\n",
    "coefficients = model.coef_\n",
    "intercept = model.intercept_\n",
    "\n",
    "# Print the results\n",
    "print(f'R-squared: {r_squared}')\n",
    "print(f'Coefficients: {coefficients}')\n",
    "print(f'Intercept: {intercept}')"
   ]
  },
  {
   "cell_type": "markdown",
   "metadata": {},
   "source": [
    "The results of the linear regression model training and evaluation are as follows:\n",
    "\n",
    "- **R-squared:** 0.04003965333794135, which means the model explains about 4% of the variance in the number of items purchased.\n",
    "- **Coefficients:** \n",
    "    - **Membership Type_Silver:** -3.68682796\n",
    "    - **Membership Type_Gold:** -2.7658046\n",
    "- **Intercept:** 14.708333333333334\n",
    "\n",
    "**Interpretation:**\n",
    "- The negative coefficients for **Membership Type_Silver** and **Membership Type_Gold** indicate that compared to Bronze members, Silver and Gold members tend to purchase fewer items. This ***contradicts*** our initial observations from the EDA. It might suggest the need for a more complex model or further investigation.\n",
    "- The low R-squared value suggests that the membership type alone may not strongly predict the number of items purchased, and other factors might be influencing the results."
   ]
  },
  {
   "cell_type": "markdown",
   "metadata": {},
   "source": [
    "We are now:\n",
    "- Including the **Total Spend** column in the regression model to determine if we can improve its predictions, and\n",
    "- Re-training the regression model to evaluate its performance."
   ]
  },
  {
   "cell_type": "code",
   "execution_count": 13,
   "metadata": {},
   "outputs": [
    {
     "name": "stdout",
     "output_type": "stream",
     "text": [
      "Predictions: [12.02512379 10.62511967  8.05310747  8.99983221  8.49554387 18.48893016\n",
      "  8.28700488 19.85846968  8.16455241 16.48960798 19.49527794 15.9301544\n",
      " 15.75493013 11.07201386 12.13656873 18.42515083 15.96346912 15.9301544\n",
      "  8.88838727 10.80034393  8.0685728  12.28912953  8.16120906 20.09571044\n",
      "  8.88838727 11.84989953 19.6400376   8.27599734 10.51367473 19.82515495\n",
      " 19.87282056 12.36725975 16.41147777 11.29490374 19.43149861  8.0685728\n",
      " 10.51367473 10.85135289  8.13123768 10.84912399 12.36725975  8.49554387\n",
      "  8.16566685  7.95601342 19.65215959 19.60672288 12.41325368 12.25581481\n",
      " 10.83365865 16.08592159 16.41147777 16.37816304 16.5229227  18.42515083\n",
      " 12.28912953 12.30348042 11.96134446 12.25581481 10.7365646  16.60105292\n",
      "  8.8326648  12.47703301  9.11127715 19.76137563  8.99983221 12.30348042\n",
      "  8.50710863  8.39844982 11.05989188 16.08592159 19.96991461 12.1776846\n",
      "  8.05310747 15.85202418 10.51367473 16.15304427 12.02512379 16.37816304\n",
      " 19.05284154  8.27599734 16.42582865 10.96056893 19.49527794  8.79129322\n",
      "  8.77137009 19.82515495  8.24379707 15.86637507 19.6400376  18.48893016\n",
      " 19.82515495 19.383833   16.15304427 11.07201386 16.60105292 11.84989953\n",
      " 12.19203548 11.07201386 12.05843851  8.27599734  8.79129322  8.79129322\n",
      " 16.19736653 15.9301544 ]\n",
      "R-squared: 0.9471051244187195\n",
      "Coefficients: [-0.06377933  0.03331472  0.01114449]\n",
      "Intercept: 3.218744846941611\n"
     ]
    }
   ],
   "source": [
    "# Prepare the features and target variable, including 'Total Spend'\n",
    "X = df_encoded[['Membership Type_Gold', 'Membership Type_Silver', 'Total Spend']]\n",
    "y = df_encoded['Items Purchased']\n",
    "\n",
    "# Ensure there are no NaN values in the features and target variable\n",
    "df_encoded = df_encoded.dropna(subset=['Membership Type_Silver', 'Membership Type_Gold', 'Total Spend', 'Items Purchased'])\n",
    "\n",
    "# Split the data into training and testing sets\n",
    "# We have increased the test_size from 0.2 to 0.3 to improve the accuracy and reliability of the model evaluation.\n",
    "X_train, X_test, y_train, y_test = train_test_split(X, y, test_size=0.3, random_state=42)\n",
    "\n",
    "# Initialize and train the linear regression model\n",
    "model = LinearRegression()\n",
    "model.fit(X_train, y_train)\n",
    "predictions = model.predict(X_test)\n",
    "\n",
    "# Evaluate the model\n",
    "r_squared = model.score(X_test, y_test)\n",
    "coefficients = model.coef_\n",
    "intercept = model.intercept_\n",
    "\n",
    "# Print the results\n",
    "print(f'Predictions: {predictions}')\n",
    "print(f'R-squared: {r_squared}')\n",
    "print(f'Coefficients: {coefficients}')\n",
    "print(f'Intercept: {intercept}')"
   ]
  },
  {
   "cell_type": "markdown",
   "metadata": {},
   "source": [
    "**Analysis of Customer Purchase Behavior**\n",
    "\n",
    "This analysis's goal was to determine whether customers with different membership types (Gold, Silver, Bronze) exhibit different purchasing behaviors, specifically in terms of the number of items purchased. Additionally, we included the total amount spent by the customers to improve the model's predictive power.\n",
    "\n",
    "**Key Findings:**\n",
    "1. **Model Fit:**\n",
    "- The regression model we developed explains approximately 95.3% of the variance in the number of items purchased by customers. This high R-squared value indicates that our model effectively predicts the number of items purchased based on the membership type and total spend.\n",
    "\n",
    "2. **Impact of Membership Type:**\n",
    "- On average, customers with a Silver membership purchase 0.024 more items than those with a Bronze membership, keeping other factors constant.\n",
    "- On average, customers with a Gold membership purchase 0.012 more items than those with a Bronze membership, keeping other factors constant.\n",
    "\n",
    "3. **Impact of Total Spend:**\n",
    "- The number of items purchased increases by 0.011 for every additional dollar spent, suggesting that higher spending is associated with purchasing more items.\n",
    "\n",
    "**Conclusion:**\n",
    "The analysis reveals that while there are slight increases in the number of items purchased for Silver and Gold members compared to Bronze members, the total amount spent by customers significantly predicts the number of items purchased. This indicates that customers who spend more money purchase more items, regardless of their membership type.\n",
    "These insights can help tailor marketing strategies and membership benefits to encourage customers to spend more and purchase more items."
   ]
  }
 ],
 "metadata": {
  "kernelspec": {
   "display_name": "dsi_participant",
   "language": "python",
   "name": "python3"
  },
  "language_info": {
   "codemirror_mode": {
    "name": "ipython",
    "version": 3
   },
   "file_extension": ".py",
   "mimetype": "text/x-python",
   "name": "python",
   "nbconvert_exporter": "python",
   "pygments_lexer": "ipython3",
   "version": "3.9.19"
  }
 },
 "nbformat": 4,
 "nbformat_minor": 2
}
